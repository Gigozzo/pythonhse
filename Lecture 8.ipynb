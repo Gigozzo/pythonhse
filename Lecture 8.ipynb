{
 "cells": [
  {
   "cell_type": "markdown",
   "metadata": {},
   "source": [
    "##Окружение with для открытия файлов"
   ]
  },
  {
   "cell_type": "markdown",
   "metadata": {},
   "source": [
    "Сначала создадим файл, который будем открывать. Пусть это будет test_123.py. Если у вас в папке с ноутбуком лежит файл с таким названием, который очень ценен для вас, то замените filename на что-то другое."
   ]
  },
  {
   "cell_type": "code",
   "execution_count": 7,
   "metadata": {
    "collapsed": true
   },
   "outputs": [],
   "source": [
    "filename = 'test_123.py'"
   ]
  },
  {
   "cell_type": "code",
   "execution_count": 23,
   "metadata": {
    "collapsed": false
   },
   "outputs": [],
   "source": [
    "f = open(filename, 'w')\n",
    "f.write(\"print('Hello, world!!!')\")\n",
    "f.close()"
   ]
  },
  {
   "cell_type": "markdown",
   "metadata": {},
   "source": [
    "Стандартная проблема с файлами состоит в том, чтобы любой открытый файл должен быть закрыт. На предыдущей лекции я показал вам такой синтаксис"
   ]
  },
  {
   "cell_type": "code",
   "execution_count": 10,
   "metadata": {
    "collapsed": false
   },
   "outputs": [
    {
     "data": {
      "text/plain": [
       "\"print('Hello, world!!!')\""
      ]
     },
     "execution_count": 10,
     "metadata": {},
     "output_type": "execute_result"
    }
   ],
   "source": [
    "open(filename).read()"
   ]
  },
  {
   "cell_type": "markdown",
   "metadata": {},
   "source": [
    "Проблема с таким синтаксисом в том, что файл неизвестно когда будет закрыт. Хотя в некоторых проектах и используют такой код, но это плохо. Лучше делать вот так:"
   ]
  },
  {
   "cell_type": "code",
   "execution_count": 11,
   "metadata": {
    "collapsed": false
   },
   "outputs": [
    {
     "name": "stdout",
     "output_type": "stream",
     "text": [
      "print('Hello, world!!!')\n"
     ]
    }
   ],
   "source": [
    "with open(filename) as f:\n",
    "    print(f.read())"
   ]
  },
  {
   "cell_type": "markdown",
   "metadata": {},
   "source": [
    "Такой синтаксис подразумевает, что после того как закончится отступ файл будет автоматически закрыт."
   ]
  },
  {
   "cell_type": "code",
   "execution_count": 12,
   "metadata": {
    "collapsed": false
   },
   "outputs": [
    {
     "name": "stdout",
     "output_type": "stream",
     "text": [
      "print('Hello, world!!!')\n",
      "print('Hello, world!!!')\n"
     ]
    }
   ],
   "source": [
    "with open(filename) as f:\n",
    "    print(f.read())\n",
    "    f.seek(0)\n",
    "    print(f.read())"
   ]
  },
  {
   "cell_type": "markdown",
   "metadata": {},
   "source": [
    "Напомню, что f.seek(0) в коде сверху переходит в начало файла, чтобы мы могли второй раз считать файл с начала.\n",
    "\n",
    "Теперь попробуем что-нибудь сделать с файлом после отступа."
   ]
  },
  {
   "cell_type": "code",
   "execution_count": 13,
   "metadata": {
    "collapsed": false
   },
   "outputs": [
    {
     "name": "stdout",
     "output_type": "stream",
     "text": [
      "print('Hello, world!!!')\n",
      "print('Hello, world!!!')\n"
     ]
    },
    {
     "ename": "ValueError",
     "evalue": "I/O operation on closed file.",
     "output_type": "error",
     "traceback": [
      "\u001b[1;31m---------------------------------------------------------------------------\u001b[0m",
      "\u001b[1;31mValueError\u001b[0m                                Traceback (most recent call last)",
      "\u001b[1;32m<ipython-input-13-2b57747c6b28>\u001b[0m in \u001b[0;36m<module>\u001b[1;34m()\u001b[0m\n\u001b[0;32m      3\u001b[0m     \u001b[0mf\u001b[0m\u001b[1;33m.\u001b[0m\u001b[0mseek\u001b[0m\u001b[1;33m(\u001b[0m\u001b[1;36m0\u001b[0m\u001b[1;33m)\u001b[0m\u001b[1;33m\u001b[0m\u001b[0m\n\u001b[0;32m      4\u001b[0m     \u001b[0mprint\u001b[0m\u001b[1;33m(\u001b[0m\u001b[0mf\u001b[0m\u001b[1;33m.\u001b[0m\u001b[0mread\u001b[0m\u001b[1;33m(\u001b[0m\u001b[1;33m)\u001b[0m\u001b[1;33m)\u001b[0m\u001b[1;33m\u001b[0m\u001b[0m\n\u001b[1;32m----> 5\u001b[1;33m \u001b[0mprint\u001b[0m\u001b[1;33m(\u001b[0m\u001b[0mf\u001b[0m\u001b[1;33m.\u001b[0m\u001b[0mread\u001b[0m\u001b[1;33m(\u001b[0m\u001b[1;33m)\u001b[0m\u001b[1;33m)\u001b[0m\u001b[1;33m\u001b[0m\u001b[0m\n\u001b[0m",
      "\u001b[1;31mValueError\u001b[0m: I/O operation on closed file."
     ]
    }
   ],
   "source": [
    "with open(filename) as f:\n",
    "    print(f.read())\n",
    "    f.seek(0)\n",
    "    print(f.read())\n",
    "print(f.read())"
   ]
  },
  {
   "cell_type": "markdown",
   "metadata": {},
   "source": [
    "Как видим файл уже был закрыт к этому моменту."
   ]
  },
  {
   "cell_type": "markdown",
   "metadata": {},
   "source": [
    "Важно сказать, что даже если вы не забудете f.close() вы можете не дойти до него потому что произошла какая-то ошибка по дороге. В коде ниже после того, как файл был открыт, происходит деление на 0. Конструкция\n",
    "try:\n",
    "    something\n",
    "except Name_of_some_error:\n",
    "    do_something_else\n",
    "\n",
    "позволяет в случае, если произошла ошибка типа Name_of_some_error не заканчивать программу со словами \"Все пропало! Ошибка!\", а тут же передать управление блоку do_something_else, который что-нибудь сделает. Интересно, что в блоке do_something_else в примере ниже файл оказался все еще открытым, что плохо. Это можно сравнить с ситуацией: вы поставили чайник на плиту, но тут вам срочно позвонили и вы убежали, а огонь остался непогашенным."
   ]
  },
  {
   "cell_type": "code",
   "execution_count": 19,
   "metadata": {
    "collapsed": false
   },
   "outputs": [
    {
     "name": "stdout",
     "output_type": "stream",
     "text": [
      "print('Hello, world!!!')\n",
      "Ups, I did it again!\n",
      "print('Hello, world!!!')\n"
     ]
    }
   ],
   "source": [
    "try:\n",
    "    f = open(filename)\n",
    "    print(f.read())\n",
    "    print(10/0)\n",
    "    print('This is never been printed')\n",
    "    f.close()\n",
    "except ZeroDivisionError:\n",
    "    print(\"Ups, I did it again!\")\n",
    "    f.seek(0)\n",
    "    print(f.read())\n",
    "    "
   ]
  },
  {
   "cell_type": "markdown",
   "metadata": {},
   "source": [
    "А здесь ситуация такая: хотя мы и убежали по срочному звонку, но умный чайник тут же сам выключился. Как видим при попытке читать из уже закрытого файла мы получаем ошибку, и это хорошо, значит, файл закрылся несмотря на ошибку."
   ]
  },
  {
   "cell_type": "code",
   "execution_count": 20,
   "metadata": {
    "collapsed": false
   },
   "outputs": [
    {
     "name": "stdout",
     "output_type": "stream",
     "text": [
      "print('Hello, world!!!')\n",
      "Ups, I did it again!\n"
     ]
    },
    {
     "ename": "ValueError",
     "evalue": "I/O operation on closed file.",
     "output_type": "error",
     "traceback": [
      "\u001b[1;31m---------------------------------------------------------------------------\u001b[0m",
      "\u001b[1;31mZeroDivisionError\u001b[0m                         Traceback (most recent call last)",
      "\u001b[1;32m<ipython-input-20-6c966bd01232>\u001b[0m in \u001b[0;36m<module>\u001b[1;34m()\u001b[0m\n\u001b[0;32m      3\u001b[0m         \u001b[0mprint\u001b[0m\u001b[1;33m(\u001b[0m\u001b[0mf\u001b[0m\u001b[1;33m.\u001b[0m\u001b[0mread\u001b[0m\u001b[1;33m(\u001b[0m\u001b[1;33m)\u001b[0m\u001b[1;33m)\u001b[0m\u001b[1;33m\u001b[0m\u001b[0m\n\u001b[1;32m----> 4\u001b[1;33m         \u001b[0mprint\u001b[0m\u001b[1;33m(\u001b[0m\u001b[1;36m10\u001b[0m\u001b[1;33m/\u001b[0m\u001b[1;36m0\u001b[0m\u001b[1;33m)\u001b[0m\u001b[1;33m\u001b[0m\u001b[0m\n\u001b[0m\u001b[0;32m      5\u001b[0m         \u001b[0mprint\u001b[0m\u001b[1;33m(\u001b[0m\u001b[1;34m'This is never been printed'\u001b[0m\u001b[1;33m)\u001b[0m\u001b[1;33m\u001b[0m\u001b[0m\n",
      "\u001b[1;31mZeroDivisionError\u001b[0m: division by zero",
      "\nDuring handling of the above exception, another exception occurred:\n",
      "\u001b[1;31mValueError\u001b[0m                                Traceback (most recent call last)",
      "\u001b[1;32m<ipython-input-20-6c966bd01232>\u001b[0m in \u001b[0;36m<module>\u001b[1;34m()\u001b[0m\n\u001b[0;32m      6\u001b[0m \u001b[1;32mexcept\u001b[0m \u001b[0mZeroDivisionError\u001b[0m\u001b[1;33m:\u001b[0m\u001b[1;33m\u001b[0m\u001b[0m\n\u001b[0;32m      7\u001b[0m     \u001b[0mprint\u001b[0m\u001b[1;33m(\u001b[0m\u001b[1;34m\"Ups, I did it again!\"\u001b[0m\u001b[1;33m)\u001b[0m\u001b[1;33m\u001b[0m\u001b[0m\n\u001b[1;32m----> 8\u001b[1;33m     \u001b[0mprint\u001b[0m\u001b[1;33m(\u001b[0m\u001b[0mf\u001b[0m\u001b[1;33m.\u001b[0m\u001b[0mread\u001b[0m\u001b[1;33m(\u001b[0m\u001b[1;33m)\u001b[0m\u001b[1;33m)\u001b[0m\u001b[1;33m\u001b[0m\u001b[0m\n\u001b[0m\u001b[0;32m      9\u001b[0m \u001b[1;33m\u001b[0m\u001b[0m\n",
      "\u001b[1;31mValueError\u001b[0m: I/O operation on closed file."
     ]
    }
   ],
   "source": [
    "try:\n",
    "    with open(filename) as f:\n",
    "        print(f.read())\n",
    "        print(10/0)\n",
    "        print('This is never been printed')\n",
    "except ZeroDivisionError:\n",
    "    print(\"Ups, I did it again!\")\n",
    "    print(f.read())\n",
    "    "
   ]
  },
  {
   "cell_type": "markdown",
   "metadata": {},
   "source": [
    "##Дописывание в файл"
   ]
  },
  {
   "cell_type": "markdown",
   "metadata": {},
   "source": [
    "Иногда нам нужно не перезаписать файл с нуля, а дописать какую-то информацию в конец файла. Для этого нужно открывать файл с модификатором 'a' вот так:"
   ]
  },
  {
   "cell_type": "code",
   "execution_count": 24,
   "metadata": {
    "collapsed": true
   },
   "outputs": [],
   "source": [
    "with open(filename, 'a') as f:\n",
    "    print(\"\\n\" + \"print('Some new string')\", file = f)"
   ]
  },
  {
   "cell_type": "markdown",
   "metadata": {},
   "source": [
    "Проверим, что старое содержимое осталось на месте"
   ]
  },
  {
   "cell_type": "code",
   "execution_count": 25,
   "metadata": {
    "collapsed": false
   },
   "outputs": [
    {
     "name": "stdout",
     "output_type": "stream",
     "text": [
      "print('Hello, world!!!')\n",
      "print('Some new string')\n",
      "\n"
     ]
    }
   ],
   "source": [
    "with open(filename) as f:\n",
    "    print(f.read())"
   ]
  },
  {
   "cell_type": "markdown",
   "metadata": {},
   "source": [
    "Как видим, все ок."
   ]
  },
  {
   "cell_type": "markdown",
   "metadata": {},
   "source": [
    "#Извлечение данных из веб-страниц"
   ]
  },
  {
   "cell_type": "markdown",
   "metadata": {},
   "source": [
    "##Модуль requests"
   ]
  },
  {
   "cell_type": "markdown",
   "metadata": {},
   "source": [
    "Если у вас не сработает строчка ниже, то сделайте pip install requests в командной строке."
   ]
  },
  {
   "cell_type": "code",
   "execution_count": 26,
   "metadata": {
    "collapsed": true
   },
   "outputs": [],
   "source": [
    "import requests"
   ]
  },
  {
   "cell_type": "markdown",
   "metadata": {},
   "source": [
    "requests позволяет получать доступ к веб-страницам. Я не буду вдаваться в подробности протокола http, но надо понимать, что есть 2 распространенных способа доступа к веб-страницам: запрос типа get и типа post. Запрос типа get - это когда вы передаете серверу какую-то информацию в адресной строке. Например, если вы перейдете по такому адресу:\n",
    "\"https://www.google.ru/?q=python анализ данных вшэ\"\n",
    "(кавычки убрать), то этим вы просите гугл искать по запросу \"python анализ данных вшэ\". \n",
    "post-запрос - это когда вам нужно ввести информацию в какую-нибудь форму, например, ввести логин-пароль."
   ]
  },
  {
   "cell_type": "code",
   "execution_count": 27,
   "metadata": {
    "collapsed": true
   },
   "outputs": [],
   "source": [
    "r = requests.get('http://vyshka.math.ru')"
   ]
  },
  {
   "cell_type": "markdown",
   "metadata": {},
   "source": [
    "Чтобы проверить, что страница нормально загрузилась есть команда"
   ]
  },
  {
   "cell_type": "code",
   "execution_count": 28,
   "metadata": {
    "collapsed": false
   },
   "outputs": [
    {
     "data": {
      "text/plain": [
       "True"
      ]
     },
     "execution_count": 28,
     "metadata": {},
     "output_type": "execute_result"
    }
   ],
   "source": [
    "r.ok"
   ]
  },
  {
   "cell_type": "markdown",
   "metadata": {},
   "source": [
    "Значение True говорит о том, что все прошло нормально."
   ]
  },
  {
   "cell_type": "code",
   "execution_count": 31,
   "metadata": {
    "collapsed": false
   },
   "outputs": [
    {
     "name": "stdout",
     "output_type": "stream",
     "text": [
      "False\n"
     ]
    }
   ],
   "source": [
    "q = requests.get('http://vyshka.math.ru/ajlfdjalsdjf')\n",
    "print(q.ok)"
   ]
  },
  {
   "cell_type": "markdown",
   "metadata": {},
   "source": [
    "Мы попытались перейти по несуществующей странице и она не загрузилась. Вернемся к успешному запросу r. Посмотрим на html исходник страницы командой"
   ]
  },
  {
   "cell_type": "code",
   "execution_count": 33,
   "metadata": {
    "collapsed": false
   },
   "outputs": [
    {
     "name": "stdout",
     "output_type": "stream",
     "text": [
      "<html>\n",
      "\n",
      "<head>\n",
      "\n",
      "   <title>HSE: Math department</title>\n",
      "\n",
      "   <META HTTP-EQUIV=\"Content-Type\" CONTENT=\"text/html; charset=koi8-r\">\n",
      "\n",
      "</head>\n",
      "\n",
      "<body bgcolor=\"#F5DEB3\">\n",
      "\n",
      "<!--begin of Top100 code -->\n",
      "\n",
      "<a href=\"http://top100.rambler.ru/top100/\">\n",
      "\n",
      "<img src=\"http://counter.rambler.ru/top100.cnt?188597\" alt=\"\" width=1\n",
      "height=1 border=0></a>\n",
      "\n",
      "<!--end of Top100 code-->\n",
      "\n",
      "\n",
      "<h1>æÁËÕÌØÔÅÔ ÍÁÔÅÍÁÔÉËÉ îéõ ÷ûü</h1>\n",
      "\n",
      "<table cellspacing=10>\n",
      "<tr>\n",
      "  <td align=\"left\" valign=\"center\" width=195>\n",
      "    <img src=\"img/matfak.jpg\"\n",
      "         alt=\"äÏÍ ÎÁ ÷Á×ÉÌÏ×Á\"\n",
      "         width=193 height=398\n",
      "         align=\"right\">\n",
      "  </td>\n",
      "  <td align=\"left\">\n",
      "      üÔÏÔ ÓÁÊÔ, ÐÏÄÄÅÒÖÉ×ÁÅÍÙÊ ÎÅÓËÏÌØËÉÍÉ ÓÏÔÒÕÄÎÉËÁÍÉ ÆÁËÕÌØÔÅÔÁ, ÚÁÄÕÍÁÎ \n",
      "      ËÁË ÄÏÐÏÌÎÅÎÉÅ Ë <a href=\"http://math.hse.ru/\">ÏÆÉÃÉÁÌØÎÏÍÕ ÓÁÊÔÕ \n",
      "      ÆÁËÕÌØÔÅÔÁ ÍÁÔÅÍÁÔÉËÉ</a> ÷ÙÓÛÅÊ ÛËÏÌÙ ÜËÏÎÏÍÉËÉ (<a \n",
      "      href=\"http://hse.ru\">îéõ ÷ûü</a>). íÙ ÐÌÁÎÉÒÕÅÍ ÒÁÚÍÅÝÁÔØ ÚÄÅÓØ \n",
      "      ÍÁÔÅÒÉÁÌÙ ËÕÒÓÏ× É ÉÎÆÏÒÍÁÃÉÀ Ï ÔÅËÕÝÉÈ ÄÅÌÁÈ.\n",
      "      </font>\n",
      "  </td>\n",
      "</table>\n",
      "\n",
      "<h2>ëÕÒÓÙ 2015/16 ÕÞÅÂÎÏÇÏ ÇÏÄÁ</h2>\n",
      "      \n",
      "<ul>\n",
      "<li>1 ËÕÒÓ ÂÁËÁÌÁ×ÒÉÁÔÁ.\n",
      "\n",
      "<li>2 ËÕÒÓ ÂÁËÁÌÁ×ÒÉÁÔÁ.\n",
      "    <ul>\n",
      "    <li><a href=\"1516/topology2.php\">÷×ÅÄÅÎÉÅ × ÔÏÐÏÌÏÇÉÀ</a>    <li><a href=\"1516/algebra2.php\">áÌÇÅÂÒÁ</a>    </ul>\n",
      "<li>3&ndash;4 ËÕÒÓÙ ÂÁËÁÌÁ×ÒÉÁÔÁ.\n",
      "<br>(×ÓÅ ÐÒÅÄÍÅÔÙ ÐÏ ×ÙÂÏÒÕ)\n",
      "    <ul>\n",
      "    <li><a href=\"1516/funcan.php\">æÕÎËÃÉÏÎÁÌØÎÙÊ ÁÎÁÌÉÚ</a>    <li><a href=\"1516/DiffGeom.php\">äÉÆÆÅÒÅÎÃÉÁÌØÎÁÑ ÇÅÏÍÅÔÒÉÑ</a>    </ul>\n",
      "\n",
      "\n",
      "<li>1 ËÕÒÓ ÍÁÇÉÓÔÒÁÔÕÒÙ.\n",
      "<br>îÁ 2 ËÕÒÓÅ ÍÁÇÉÓÔÒÁÔÕÒÙ É × ÁÓÐÉÒÁÎÔÕÒÅ ÏÂÑÚÁÔÅÌØÎÙÈ ÚÁÎÑÔÉÊ ÎÅÔ, ÔÏÌØËÏ \n",
      "ÓÐÅÃËÕÒÓÙ É ÓÐÅÃÓÅÍÉÎÁÒÙ.\n",
      "<li>óÐÅÃËÕÒÓÙ\n",
      "    <ul>\n",
      "    <li><a href=\"1516/tvs.php\">ôÏÐÏÌÏÇÉÞÅÓËÉÅ ×ÅËÔÏÒÎÙÅ ÐÒÏÓÔÒÁÎÓÔ×Á</a>    </ul>\n",
      "<li>óÐÅÃÓÅÍÉÎÁÒÙ\n",
      "    <ul>\n",
      "    <li><a href=\"1516/basic.php\">ïÓÎÏ×ÎÙÅ ÐÏÎÑÔÉÑ ÍÁÔÅÍÁÔÉËÉ</a>    </ul> \n",
      "\n",
      "</ul>\n",
      "\n",
      "<h2>ëÕÒÓÙ ÐÒÏÛÌÙÈ ÌÅÔ</h2>\n",
      "<ul>\n",
      "<li><a href=\"0809/0809.html\">2008/09</a>\n",
      "<li><a href=\"0910/0910.html\">2009/10</a>\n",
      "<li><a href=\"1011/1011.html\">2010/11</a>\n",
      "<li><a href=\"1112/1112.html\">2011/12</a>\n",
      "<li><a href=\"1213/1213.php\">2012/13</a>\n",
      "<li><a href=\"1415/1415.php\">2014/15</a>\n",
      "</ul>\n",
      "</body>\n",
      "\n",
      "</html>\n"
     ]
    }
   ],
   "source": [
    "print(r.text)"
   ]
  },
  {
   "cell_type": "markdown",
   "metadata": {},
   "source": [
    "Это html-страница. html - это такой язык разметки, являющийся частным случаем стандарта SGML. Другим частным случаем SGML является XML, с которым мы еще встретимся. Напишем простенькую html страницу. Удобнее всего это делать в каком-либо редакторе. Но я запишу ее в файл через ноутбук."
   ]
  },
  {
   "cell_type": "code",
   "execution_count": 40,
   "metadata": {
    "collapsed": true
   },
   "outputs": [],
   "source": [
    "my_html = '''\n",
    "<!DOCTYPE html>\n",
    "<html lang=\"en\">\n",
    "<head>\n",
    "    <meta charset = \"UTF-8\">\n",
    "    <title>Title</title>\n",
    "</head>\n",
    "<body>\n",
    "<h1>Hello</h1>\n",
    "<p>I'm a paragraph.</p>\n",
    "<hr>\n",
    "<ol>\n",
    "    <li>One </li>\n",
    "    <li>Two </li>\n",
    "</ol>\n",
    "    \n",
    "</body>\n",
    "</html>\n",
    "'''"
   ]
  },
  {
   "cell_type": "code",
   "execution_count": 41,
   "metadata": {
    "collapsed": true
   },
   "outputs": [],
   "source": [
    "with open('my.html', 'w') as f:\n",
    "    f.write(my_html)"
   ]
  },
  {
   "cell_type": "markdown",
   "metadata": {},
   "source": [
    "Откройте my.html браузером и вы увидите простую веб-страничку. Видно что html разбит на специальные фрагменты, которые называются тэгами. В тексте выше есть тэги: html, head, title и т.д. Каждый тэг отмечает какой-то кусочек веб-страницы. Тэг title - это заголовок страницы. Тэг ol - отмечает упорядоченный лист. Тэг p - параграф. Тэг li отвечает элементу упорядоченного листа.  Все тэги здесь парные кроме тэга hr, который рисует горизонтальную линию (он работает и без </hr>).\n",
    "Фактически html-страница представляет собой набор вложенных тэгов. Можно сказать, что это дерево с корнем в тэге html. У каждого тэга есть потомки - те тэги, которые непосредственно вложены в него. Например, у тэга body потомки h1, p, hr, ol. Получается генеалогическое древо."
   ]
  },
  {
   "cell_type": "markdown",
   "metadata": {},
   "source": [
    "html нас интересует с целью извлечения информации из такого дерева. Давайте вставим в html таблицу."
   ]
  },
  {
   "cell_type": "code",
   "execution_count": 43,
   "metadata": {
    "collapsed": true
   },
   "outputs": [],
   "source": [
    "my_html = '''\n",
    "<!DOCTYPE html>\n",
    "<html lang=\"en\">\n",
    "<head>\n",
    "    <meta charset = \"UTF-8\">\n",
    "    <title>Title</title>\n",
    "</head>\n",
    "<body>\n",
    "<h1>Hello</h1>\n",
    "<p>I'm a paragraph.</p>\n",
    "<hr>\n",
    "<ol>\n",
    "    <li>One </li>\n",
    "    <li>Two </li>\n",
    "</ol>\n",
    "<table border = \"1\">\n",
    "    <tr>\n",
    "        <td>\n",
    "            1\n",
    "        </td>\n",
    "        <td>\n",
    "            2\n",
    "        </td>\n",
    "    </tr>\n",
    "        <td>\n",
    "            3\n",
    "        </td>\n",
    "        <td>\n",
    "            4\n",
    "        </td>\n",
    "    <tr>\n",
    "    </tr>\n",
    "</table>\n",
    "</body>\n",
    "</html>\n",
    "'''\n",
    "with open('my.html', 'w') as f:\n",
    "    f.write(my_html)"
   ]
  },
  {
   "cell_type": "markdown",
   "metadata": {},
   "source": [
    "Подобная страница уже была загружена на сервер во время лекции. Давайте загрузим ее с помощью requests."
   ]
  },
  {
   "cell_type": "code",
   "execution_count": 77,
   "metadata": {
    "collapsed": true
   },
   "outputs": [],
   "source": [
    "r = requests.get('http://schurov.com/test.html')"
   ]
  },
  {
   "cell_type": "markdown",
   "metadata": {},
   "source": [
    "##BeautifulSoup"
   ]
  },
  {
   "cell_type": "markdown",
   "metadata": {},
   "source": [
    "Для обработки веб-страниц существует множество модулей. Проблема с html в том, что большинство браузеров ведет себя прощающе, и поэтому в вебе много плохо-написанных (не по стандарту html) html-страниц.\n",
    "\n",
    "Мы будем пользоваться модулем beautifulsoup4"
   ]
  },
  {
   "cell_type": "code",
   "execution_count": 78,
   "metadata": {
    "collapsed": true
   },
   "outputs": [],
   "source": [
    "from bs4 import BeautifulSoup"
   ]
  },
  {
   "cell_type": "code",
   "execution_count": 79,
   "metadata": {
    "collapsed": true
   },
   "outputs": [],
   "source": [
    "page = BeautifulSoup(r.text)"
   ]
  },
  {
   "cell_type": "code",
   "execution_count": 80,
   "metadata": {
    "collapsed": false
   },
   "outputs": [
    {
     "data": {
      "text/plain": [
       "<!DOCTYPE html>\n",
       "<html lang=\"en\">\n",
       "<head>\n",
       "<meta charset=\"utf-8\"/>\n",
       "<title>Title</title>\n",
       "</head>\n",
       "<body>\n",
       "<h1>Hello</h1>\n",
       "<p>I'm paragraph.</p>\n",
       "<hr/>\n",
       "<ol>\n",
       "<li>One</li>\n",
       "<li>Two</li>\n",
       "</ol>\n",
       "<table border=\"1\">\n",
       "<tr>\n",
       "<td>\n",
       "            1\n",
       "        </td>\n",
       "<td>\n",
       "            2\n",
       "        </td>\n",
       "</tr>\n",
       "<tr>\n",
       "<td>\n",
       "            3\n",
       "        </td>\n",
       "<td>\n",
       "            4\n",
       "        </td>\n",
       "</tr>\n",
       "</table>\n",
       "</body>\n",
       "</html>"
      ]
     },
     "execution_count": 80,
     "metadata": {},
     "output_type": "execute_result"
    }
   ],
   "source": [
    "page"
   ]
  },
  {
   "cell_type": "markdown",
   "metadata": {},
   "source": [
    "Мы видим, что объект page очень похож на строку - html, но, на самом деле, это не просто строка. К page можно делать запросы. Например:"
   ]
  },
  {
   "cell_type": "code",
   "execution_count": 81,
   "metadata": {
    "collapsed": false
   },
   "outputs": [
    {
     "data": {
      "text/plain": [
       "<html lang=\"en\">\n",
       "<head>\n",
       "<meta charset=\"utf-8\"/>\n",
       "<title>Title</title>\n",
       "</head>\n",
       "<body>\n",
       "<h1>Hello</h1>\n",
       "<p>I'm paragraph.</p>\n",
       "<hr/>\n",
       "<ol>\n",
       "<li>One</li>\n",
       "<li>Two</li>\n",
       "</ol>\n",
       "<table border=\"1\">\n",
       "<tr>\n",
       "<td>\n",
       "            1\n",
       "        </td>\n",
       "<td>\n",
       "            2\n",
       "        </td>\n",
       "</tr>\n",
       "<tr>\n",
       "<td>\n",
       "            3\n",
       "        </td>\n",
       "<td>\n",
       "            4\n",
       "        </td>\n",
       "</tr>\n",
       "</table>\n",
       "</body>\n",
       "</html>"
      ]
     },
     "execution_count": 81,
     "metadata": {},
     "output_type": "execute_result"
    }
   ],
   "source": [
    "page.html"
   ]
  },
  {
   "cell_type": "markdown",
   "metadata": {},
   "source": [
    "Теперь мы видим только то, что внутри тэга html. Мы можем пойти еще глубже, и получить то, что находится внутри тэга body"
   ]
  },
  {
   "cell_type": "code",
   "execution_count": 82,
   "metadata": {
    "collapsed": false
   },
   "outputs": [
    {
     "data": {
      "text/plain": [
       "<body>\n",
       "<h1>Hello</h1>\n",
       "<p>I'm paragraph.</p>\n",
       "<hr/>\n",
       "<ol>\n",
       "<li>One</li>\n",
       "<li>Two</li>\n",
       "</ol>\n",
       "<table border=\"1\">\n",
       "<tr>\n",
       "<td>\n",
       "            1\n",
       "        </td>\n",
       "<td>\n",
       "            2\n",
       "        </td>\n",
       "</tr>\n",
       "<tr>\n",
       "<td>\n",
       "            3\n",
       "        </td>\n",
       "<td>\n",
       "            4\n",
       "        </td>\n",
       "</tr>\n",
       "</table>\n",
       "</body>"
      ]
     },
     "execution_count": 82,
     "metadata": {},
     "output_type": "execute_result"
    }
   ],
   "source": [
    "page.html.body"
   ]
  },
  {
   "cell_type": "markdown",
   "metadata": {},
   "source": [
    "Одним из потомков body является table. Ее можно получить вот так."
   ]
  },
  {
   "cell_type": "code",
   "execution_count": 83,
   "metadata": {
    "collapsed": false
   },
   "outputs": [
    {
     "data": {
      "text/plain": [
       "<table border=\"1\">\n",
       "<tr>\n",
       "<td>\n",
       "            1\n",
       "        </td>\n",
       "<td>\n",
       "            2\n",
       "        </td>\n",
       "</tr>\n",
       "<tr>\n",
       "<td>\n",
       "            3\n",
       "        </td>\n",
       "<td>\n",
       "            4\n",
       "        </td>\n",
       "</tr>\n",
       "</table>"
      ]
     },
     "execution_count": 83,
     "metadata": {},
     "output_type": "execute_result"
    }
   ],
   "source": [
    "page.html.body.table"
   ]
  },
  {
   "cell_type": "markdown",
   "metadata": {},
   "source": [
    "Допустим, что мне нужно получить несколько элементов с одинаковым тэгом, например, все строки tr. Для этого используется такой синтаксис:"
   ]
  },
  {
   "cell_type": "code",
   "execution_count": 84,
   "metadata": {
    "collapsed": false
   },
   "outputs": [
    {
     "data": {
      "text/plain": [
       "[<tr>\n",
       " <td>\n",
       "             1\n",
       "         </td>\n",
       " <td>\n",
       "             2\n",
       "         </td>\n",
       " </tr>, <tr>\n",
       " <td>\n",
       "             3\n",
       "         </td>\n",
       " <td>\n",
       "             4\n",
       "         </td>\n",
       " </tr>]"
      ]
     },
     "execution_count": 84,
     "metadata": {},
     "output_type": "execute_result"
    }
   ],
   "source": [
    "page.html.body.table.findAll('tr')"
   ]
  },
  {
   "cell_type": "markdown",
   "metadata": {},
   "source": [
    "Мы видим, что это список из двух элементов. Так что по нему можно пройти циклом."
   ]
  },
  {
   "cell_type": "code",
   "execution_count": 86,
   "metadata": {
    "collapsed": false
   },
   "outputs": [
    {
     "name": "stdout",
     "output_type": "stream",
     "text": [
      "0\n",
      "<tr>\n",
      "<td>\n",
      "            1\n",
      "        </td>\n",
      "<td>\n",
      "            2\n",
      "        </td>\n",
      "</tr>\n",
      "1\n",
      "<tr>\n",
      "<td>\n",
      "            3\n",
      "        </td>\n",
      "<td>\n",
      "            4\n",
      "        </td>\n",
      "</tr>\n"
     ]
    }
   ],
   "source": [
    "for i, row in enumerate(page.html.body.table.findAll('tr')):\n",
    "    print(i)\n",
    "    print(row)"
   ]
  },
  {
   "cell_type": "markdown",
   "metadata": {},
   "source": [
    "У нас есть 2 строчки и каждая из них является таким же объектом BeautifulSoup, как и все предыдущие. Так что к ним можно применить конструкцию row.td"
   ]
  },
  {
   "cell_type": "code",
   "execution_count": 87,
   "metadata": {
    "collapsed": false
   },
   "outputs": [
    {
     "name": "stdout",
     "output_type": "stream",
     "text": [
      "0\n",
      "<td>\n",
      "            1\n",
      "        </td>\n",
      "1\n",
      "<td>\n",
      "            3\n",
      "        </td>\n"
     ]
    }
   ],
   "source": [
    "for i, row in enumerate(page.html.body.table.findAll('tr')):\n",
    "    print(i)\n",
    "    print(row.td)"
   ]
  },
  {
   "cell_type": "markdown",
   "metadata": {},
   "source": [
    "МЫ видим, что если внутри row несколько td, то row.td возьмет первый из них. Поэтому мы получили первый столбец. Но нас интересует не сам тэг td, а число, которое там лежит. Его можно напечатать вот так."
   ]
  },
  {
   "cell_type": "code",
   "execution_count": 88,
   "metadata": {
    "collapsed": false
   },
   "outputs": [
    {
     "name": "stdout",
     "output_type": "stream",
     "text": [
      "0\n",
      "\n",
      "            1\n",
      "        \n",
      "1\n",
      "\n",
      "            3\n",
      "        \n"
     ]
    }
   ],
   "source": [
    "for i, row in enumerate(page.html.body.table.findAll('tr')):\n",
    "    print(i)\n",
    "    print(row.td.string)"
   ]
  },
  {
   "cell_type": "markdown",
   "metadata": {},
   "source": [
    "Видно, что перед числом идут ненужные пробелы. Удалим их командой strip"
   ]
  },
  {
   "cell_type": "code",
   "execution_count": 89,
   "metadata": {
    "collapsed": false
   },
   "outputs": [
    {
     "name": "stdout",
     "output_type": "stream",
     "text": [
      "0\n",
      "1\n",
      "1\n",
      "3\n"
     ]
    }
   ],
   "source": [
    "for i, row in enumerate(page.html.body.table.findAll('tr')):\n",
    "    print(i)\n",
    "    print(row.td.string.strip())"
   ]
  },
  {
   "cell_type": "markdown",
   "metadata": {},
   "source": [
    "Давайте загрузим таблицу в виде списка списков"
   ]
  },
  {
   "cell_type": "code",
   "execution_count": 94,
   "metadata": {
    "collapsed": false
   },
   "outputs": [
    {
     "name": "stdout",
     "output_type": "stream",
     "text": [
      "[['1', '2'], ['3', '4']]\n"
     ]
    }
   ],
   "source": [
    "table = []\n",
    "for i, row in enumerate(page.html.body.table.findAll('tr')):\n",
    "    table.append([])\n",
    "    for cell in row.findAll('td'):\n",
    "        table[-1].append(cell.string.strip())\n",
    "    \n",
    "print(table)"
   ]
  },
  {
   "cell_type": "markdown",
   "metadata": {},
   "source": [
    "Вот то же самое, но короче с помощью list comprehensions"
   ]
  },
  {
   "cell_type": "code",
   "execution_count": 98,
   "metadata": {
    "collapsed": false
   },
   "outputs": [
    {
     "name": "stdout",
     "output_type": "stream",
     "text": [
      "[['1', '2'], ['3', '4']]\n"
     ]
    }
   ],
   "source": [
    "table = []\n",
    "for row in page.html.body.table.findAll('tr'):\n",
    "    table.append([cell.string.strip() for cell in row.findAll('td')]) \n",
    "print(table)"
   ]
  },
  {
   "cell_type": "markdown",
   "metadata": {},
   "source": [
    "Или еще короче"
   ]
  },
  {
   "cell_type": "code",
   "execution_count": 99,
   "metadata": {
    "collapsed": false
   },
   "outputs": [
    {
     "name": "stdout",
     "output_type": "stream",
     "text": [
      "[['1', '2'], ['3', '4']]\n"
     ]
    }
   ],
   "source": [
    "table = [[cell.string.strip() for cell in row.findAll('td')] \n",
    "         for row in page.html.body.table.findAll('tr')]\n",
    "print(table)"
   ]
  },
  {
   "cell_type": "markdown",
   "metadata": {},
   "source": [
    "Заметим, что вместо some_beautiful_soup_objec.findAll('sometag') можно писать короче some_beautiful_soup_object('sometag'). Так что можно написать еще короче"
   ]
  },
  {
   "cell_type": "code",
   "execution_count": 100,
   "metadata": {
    "collapsed": false
   },
   "outputs": [
    {
     "name": "stdout",
     "output_type": "stream",
     "text": [
      "[['1', '2'], ['3', '4']]\n"
     ]
    }
   ],
   "source": [
    "table = [[cell.string.strip() for cell in row('td')] \n",
    "         for row in page.html.body.table('tr')]\n",
    "print(table)"
   ]
  },
  {
   "cell_type": "markdown",
   "metadata": {},
   "source": [
    "У тэгов кроме названия есть еще свойства, такие как lang у html и border у table. Важным тэгом является тэг a, который создает ссылку. У него есть свойство href, которое хранит собственно ссылку. Например:"
   ]
  },
  {
   "cell_type": "code",
   "execution_count": null,
   "metadata": {
    "collapsed": true
   },
   "outputs": [],
   "source": [
    "<a href=\"http://top100.rambler.ru/top100/\">"
   ]
  },
  {
   "cell_type": "markdown",
   "metadata": {},
   "source": [
    "Теперь представим себе, что мы хотим сделать робота, который будет ходить по веб-страницам, и переходить с одной страницы на другую по ссылкам. Тогда мы сталкиваемся с задачей извлечь из страницы все гиперссылки.\n",
    "Для этого нужно найти все тэги a на странице, и у всех них взять параметр href. Для начала покажем как получить свойство объекта, например, border у table. Это делается так как будто наш объект словарь, и мы берем его значение по ключу."
   ]
  },
  {
   "cell_type": "code",
   "execution_count": 101,
   "metadata": {
    "collapsed": false
   },
   "outputs": [
    {
     "data": {
      "text/plain": [
       "'1'"
      ]
     },
     "execution_count": 101,
     "metadata": {},
     "output_type": "execute_result"
    }
   ],
   "source": [
    "page.html.body.table['border']"
   ]
  },
  {
   "cell_type": "markdown",
   "metadata": {},
   "source": [
    "Если запросить свойство, которое тэг не имеет, то мы получим KeyError, как и со словарем."
   ]
  },
  {
   "cell_type": "code",
   "execution_count": 102,
   "metadata": {
    "collapsed": false
   },
   "outputs": [
    {
     "ename": "KeyError",
     "evalue": "'ывафыа'",
     "output_type": "error",
     "traceback": [
      "\u001b[1;31m---------------------------------------------------------------------------\u001b[0m",
      "\u001b[1;31mKeyError\u001b[0m                                  Traceback (most recent call last)",
      "\u001b[1;32m<ipython-input-102-3ae46ee142b5>\u001b[0m in \u001b[0;36m<module>\u001b[1;34m()\u001b[0m\n\u001b[1;32m----> 1\u001b[1;33m \u001b[0mpage\u001b[0m\u001b[1;33m.\u001b[0m\u001b[0mhtml\u001b[0m\u001b[1;33m.\u001b[0m\u001b[0mbody\u001b[0m\u001b[1;33m.\u001b[0m\u001b[0mtable\u001b[0m\u001b[1;33m[\u001b[0m\u001b[1;34m'ывафыа'\u001b[0m\u001b[1;33m]\u001b[0m\u001b[1;33m\u001b[0m\u001b[0m\n\u001b[0m",
      "\u001b[1;32mC:\\Users\\user\\Anaconda\\envs\\py34\\lib\\site-packages\\bs4\\element.py\u001b[0m in \u001b[0;36m__getitem__\u001b[1;34m(self, key)\u001b[0m\n\u001b[0;32m    903\u001b[0m         \"\"\"tag[key] returns the value of the 'key' attribute for the tag,\n\u001b[0;32m    904\u001b[0m         and throws an exception if it's not there.\"\"\"\n\u001b[1;32m--> 905\u001b[1;33m         \u001b[1;32mreturn\u001b[0m \u001b[0mself\u001b[0m\u001b[1;33m.\u001b[0m\u001b[0mattrs\u001b[0m\u001b[1;33m[\u001b[0m\u001b[0mkey\u001b[0m\u001b[1;33m]\u001b[0m\u001b[1;33m\u001b[0m\u001b[0m\n\u001b[0m\u001b[0;32m    906\u001b[0m \u001b[1;33m\u001b[0m\u001b[0m\n\u001b[0;32m    907\u001b[0m     \u001b[1;32mdef\u001b[0m \u001b[0m__iter__\u001b[0m\u001b[1;33m(\u001b[0m\u001b[0mself\u001b[0m\u001b[1;33m)\u001b[0m\u001b[1;33m:\u001b[0m\u001b[1;33m\u001b[0m\u001b[0m\n",
      "\u001b[1;31mKeyError\u001b[0m: 'ывафыа'"
     ]
    }
   ],
   "source": [
    "page.html.body.table['ывафыа']"
   ]
  },
  {
   "cell_type": "markdown",
   "metadata": {},
   "source": [
    "Так же, как у словаря, есть метод get, который ничего не возвращает, если такого свойства нет. Или возвращает значение по умолчанию, определенное нами."
   ]
  },
  {
   "cell_type": "code",
   "execution_count": 104,
   "metadata": {
    "collapsed": false
   },
   "outputs": [],
   "source": [
    "page.html.body.get('ывафыа')"
   ]
  },
  {
   "cell_type": "code",
   "execution_count": 105,
   "metadata": {
    "collapsed": false
   },
   "outputs": [
    {
     "data": {
      "text/plain": [
       "'no'"
      ]
     },
     "execution_count": 105,
     "metadata": {},
     "output_type": "execute_result"
    }
   ],
   "source": [
    "page.html.body.get('ывафыа', 'no')"
   ]
  },
  {
   "cell_type": "markdown",
   "metadata": {},
   "source": [
    "Теперь извлечем все ссылки с какого-нибудь сайта"
   ]
  },
  {
   "cell_type": "code",
   "execution_count": 106,
   "metadata": {
    "collapsed": true
   },
   "outputs": [],
   "source": [
    "r = requests.get('http://vyshka.math.ru')\n",
    "page = BeautifulSoup(r.text)"
   ]
  },
  {
   "cell_type": "markdown",
   "metadata": {},
   "source": [
    "Вот все ссылки на нашей странице. Как видим findAll ищет не только по непосредственным \"детям\" какой-то вершины (в генеалогических терминах), но и по всем потомкам."
   ]
  },
  {
   "cell_type": "code",
   "execution_count": 107,
   "metadata": {
    "collapsed": false
   },
   "outputs": [
    {
     "data": {
      "text/plain": [
       "[<a href=\"http://top100.rambler.ru/top100/\">\n",
       " <img alt=\"\" border=\"0\" height=\"1\" src=\"http://counter.rambler.ru/top100.cnt?188597\" width=\"1\"/></a>,\n",
       " <a href=\"http://math.hse.ru/\">ÏÆÉÃÉÁÌØÎÏÍÕ ÓÁÊÔÕ \n",
       "       ÆÁËÕÌØÔÅÔÁ ÍÁÔÅÍÁÔÉËÉ</a>,\n",
       " <a href=\"http://hse.ru\">îéõ ÷ûü</a>,\n",
       " <a href=\"1516/topology2.php\">÷×ÅÄÅÎÉÅ × ÔÏÐÏÌÏÇÉÀ</a>,\n",
       " <a href=\"1516/algebra2.php\">áÌÇÅÂÒÁ</a>,\n",
       " <a href=\"1516/funcan.php\">æÕÎËÃÉÏÎÁÌØÎÙÊ ÁÎÁÌÉÚ</a>,\n",
       " <a href=\"1516/DiffGeom.php\">äÉÆÆÅÒÅÎÃÉÁÌØÎÁÑ ÇÅÏÍÅÔÒÉÑ</a>,\n",
       " <a href=\"1516/tvs.php\">ôÏÐÏÌÏÇÉÞÅÓËÉÅ ×ÅËÔÏÒÎÙÅ ÐÒÏÓÔÒÁÎÓÔ×Á</a>,\n",
       " <a href=\"1516/basic.php\">ïÓÎÏ×ÎÙÅ ÐÏÎÑÔÉÑ ÍÁÔÅÍÁÔÉËÉ</a>,\n",
       " <a href=\"0809/0809.html\">2008/09</a>,\n",
       " <a href=\"0910/0910.html\">2009/10</a>,\n",
       " <a href=\"1011/1011.html\">2010/11</a>,\n",
       " <a href=\"1112/1112.html\">2011/12</a>,\n",
       " <a href=\"1213/1213.php\">2012/13</a>,\n",
       " <a href=\"1415/1415.php\">2014/15</a>]"
      ]
     },
     "execution_count": 107,
     "metadata": {},
     "output_type": "execute_result"
    }
   ],
   "source": [
    "page('a')"
   ]
  },
  {
   "cell_type": "markdown",
   "metadata": {},
   "source": [
    "Напечатаем сами ссылки"
   ]
  },
  {
   "cell_type": "code",
   "execution_count": 108,
   "metadata": {
    "collapsed": false
   },
   "outputs": [
    {
     "name": "stdout",
     "output_type": "stream",
     "text": [
      "http://top100.rambler.ru/top100/\n",
      "http://math.hse.ru/\n",
      "http://hse.ru\n",
      "1516/topology2.php\n",
      "1516/algebra2.php\n",
      "1516/funcan.php\n",
      "1516/DiffGeom.php\n",
      "1516/tvs.php\n",
      "1516/basic.php\n",
      "0809/0809.html\n",
      "0910/0910.html\n",
      "1011/1011.html\n",
      "1112/1112.html\n",
      "1213/1213.php\n",
      "1415/1415.php\n"
     ]
    }
   ],
   "source": [
    "for link in page(\"a\"):\n",
    "    print(link['href'])"
   ]
  },
  {
   "cell_type": "markdown",
   "metadata": {},
   "source": [
    "Тут есть гиперссылки, которые начинаются с http, и локальные, которые ведут на тот же сайт. "
   ]
  }
 ],
 "metadata": {
  "kernelspec": {
   "display_name": "Python 3",
   "language": "python",
   "name": "python3"
  },
  "language_info": {
   "codemirror_mode": {
    "name": "ipython",
    "version": 3
   },
   "file_extension": ".py",
   "mimetype": "text/x-python",
   "name": "python",
   "nbconvert_exporter": "python",
   "pygments_lexer": "ipython3",
   "version": "3.4.3"
  }
 },
 "nbformat": 4,
 "nbformat_minor": 0
}
